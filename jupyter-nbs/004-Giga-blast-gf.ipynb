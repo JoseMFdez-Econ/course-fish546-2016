{
 "cells": [
  {
   "cell_type": "markdown",
   "metadata": {},
   "source": [
    "# Blasting Gigaton Protein"
   ]
  },
  {
   "cell_type": "code",
   "execution_count": 3,
   "metadata": {
    "collapsed": false
   },
   "outputs": [
    {
     "name": "stdout",
     "output_type": "stream",
     "text": [
      "\n",
      "\n",
      "Building a new DB, current time: 10/24/2016 06:21:59\n",
      "New DB name:   ../data/uniprot_sprot_r2016-09\n",
      "New DB title:  ../data/uniprot_sprot_r2016-09.fasta\n",
      "Sequence type: Protein\n",
      "Keep Linkouts: T\n",
      "Keep MBits: T\n",
      "Maximum file size: 1000000000B\n",
      "Adding sequences from FASTA; added 552259 sequences in 37.2114 seconds.\n"
     ]
    }
   ],
   "source": [
    "!/Users/Shared/Apps/ncbi-blast-2.2.29\\+/bin/makeblastdb \\\n",
    "-in ../data/uniprot_sprot_r2016-09.fasta \\\n",
    "-dbtype prot \\\n",
    "-out ../data/uniprot_sprot_r2016-09"
   ]
  },
  {
   "cell_type": "code",
   "execution_count": 9,
   "metadata": {
    "collapsed": false
   },
   "outputs": [
    {
     "name": "stdout",
     "output_type": "stream",
     "text": [
      "contigs.fasta.transdecoder.pep  uniprot_sprot_r2016-09.phr\r\n",
      "oysterseed2.blib                uniprot_sprot_r2016-09.pin\r\n",
      "uniprot_sprot_r2016-09.fasta    uniprot_sprot_r2016-09.psq\r\n"
     ]
    }
   ],
   "source": [
    "ls ../data/"
   ]
  },
  {
   "cell_type": "code",
   "execution_count": null,
   "metadata": {
    "collapsed": false
   },
   "outputs": [],
   "source": [
    "!/Users/Shared/Apps/ncbi-blast-2.2.29\\+/bin/blastp \\\n",
    "-query ../data/contigs.fasta.transdecoder.pep \\\n",
    "-db ../data/uniprot_sprot_r2016-09 \\\n",
    "-out analyses/giga-blastp-uniprot01.tab \\\n",
    "-num_threads 2 \\\n",
    "-max_target_seqs 1 \\\n",
    "-max_hsps 1 \\\n",
    "-outfmt 6\n"
   ]
  },
  {
   "cell_type": "code",
   "execution_count": null,
   "metadata": {
    "collapsed": true
   },
   "outputs": [],
   "source": []
  }
 ],
 "metadata": {
  "anaconda-cloud": {},
  "kernelspec": {
   "display_name": "Python [conda root]",
   "language": "python",
   "name": "conda-root-py"
  },
  "language_info": {
   "codemirror_mode": {
    "name": "ipython",
    "version": 2
   },
   "file_extension": ".py",
   "mimetype": "text/x-python",
   "name": "python",
   "nbconvert_exporter": "python",
   "pygments_lexer": "ipython2",
   "version": "2.7.12"
  }
 },
 "nbformat": 4,
 "nbformat_minor": 1
}
